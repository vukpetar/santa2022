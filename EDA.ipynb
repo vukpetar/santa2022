{
 "cells": [
  {
   "cell_type": "markdown",
   "id": "d4f9b17b",
   "metadata": {},
   "source": [
    "# Load packages"
   ]
  },
  {
   "cell_type": "code",
   "execution_count": null,
   "id": "81068292",
   "metadata": {},
   "outputs": [],
   "source": [
    "from pathlib import Path\n",
    "from environment import Santa2022Environment\n",
    "from utils import *\n",
    "\n",
    "import pandas as pd\n",
    "from stable_baselines3 import PPO\n",
    "\n",
    "import matplotlib.pyplot as plt"
   ]
  },
  {
   "cell_type": "markdown",
   "id": "789f5d1f",
   "metadata": {},
   "source": [
    "# Load Image of Christmas card"
   ]
  },
  {
   "cell_type": "code",
   "execution_count": null,
   "id": "3c3d9bbf",
   "metadata": {},
   "outputs": [],
   "source": [
    "df_image = pd.read_csv(\"image.csv\")\n",
    "image = df_to_image(df_image)"
   ]
  },
  {
   "cell_type": "code",
   "execution_count": null,
   "id": "e31fcd23",
   "metadata": {
    "scrolled": false
   },
   "outputs": [],
   "source": [
    "plt.imshow(image)\n",
    "plt.show()"
   ]
  },
  {
   "cell_type": "markdown",
   "id": "0a55b1a9",
   "metadata": {},
   "source": [
    "# Load first submission file"
   ]
  },
  {
   "cell_type": "code",
   "execution_count": null,
   "id": "8aca64f9",
   "metadata": {},
   "outputs": [],
   "source": [
    "all_confs = []\n",
    "for sub_file in Path(\"./submissions\").glob(\"*.csv\"):\n",
    "    s = pd.read_csv(sub_file.as_posix())\n",
    "    list_of_confs = s.apply(lambda x: [list(map(int, link.split())) for link in x.configuration.split(\";\")], axis=1).tolist()\n",
    "    all_confs.extend(list_of_confs)\n",
    "    break"
   ]
  },
  {
   "cell_type": "markdown",
   "id": "713a3027",
   "metadata": {},
   "source": [
    "# Load PPO model"
   ]
  },
  {
   "cell_type": "code",
   "execution_count": null,
   "id": "4eb209d5",
   "metadata": {},
   "outputs": [],
   "source": [
    "max_iter = 1000\n",
    "env = Santa2022Environment(image, max_iter=max_iter)\n",
    "model = PPO(\n",
    "    \"MultiInputPolicy\",\n",
    "    env = env,\n",
    "    verbose=1\n",
    ")\n",
    "model.load(\"./models/rl_model_2000000_steps\")"
   ]
  },
  {
   "cell_type": "markdown",
   "id": "4b014dea",
   "metadata": {},
   "source": [
    "# Run model on env"
   ]
  },
  {
   "cell_type": "code",
   "execution_count": null,
   "id": "9686de90",
   "metadata": {},
   "outputs": [],
   "source": [
    "obs = env.reset()\n",
    "is_done = False\n",
    "model_rewards = []\n",
    "while not is_done:\n",
    "    action = int(model.predict(obs, deterministic=True)[0])\n",
    "    obs, reward, is_done, _ = env.step(action)\n",
    "    model_rewards.append(reward)"
   ]
  },
  {
   "cell_type": "markdown",
   "id": "d8c635ea",
   "metadata": {},
   "source": [
    "# Get rewards of submission file (baseline model)"
   ]
  },
  {
   "cell_type": "code",
   "execution_count": null,
   "id": "4e2aaa06",
   "metadata": {},
   "outputs": [],
   "source": [
    "rewards = []\n",
    "obs = env.reset()\n",
    "\n",
    "for conf in all_confs[1:]:\n",
    "    action = env.new_confs.index(conf)\n",
    "    obs, reward, done, info = env.step(action)\n",
    "    rewards.append(reward)"
   ]
  },
  {
   "cell_type": "markdown",
   "id": "57e4a407",
   "metadata": {},
   "source": [
    "# Plot rewards"
   ]
  },
  {
   "cell_type": "markdown",
   "id": "75eb7bba",
   "metadata": {},
   "source": [
    "## Submission file rewards"
   ]
  },
  {
   "cell_type": "code",
   "execution_count": null,
   "id": "2abaee40",
   "metadata": {},
   "outputs": [],
   "source": [
    "plt.plot(rewards[:1000], '.')\n",
    "plt.show()"
   ]
  },
  {
   "cell_type": "markdown",
   "id": "c359a352",
   "metadata": {},
   "source": [
    "# PPO model rewards"
   ]
  },
  {
   "cell_type": "code",
   "execution_count": null,
   "id": "366cdc77",
   "metadata": {},
   "outputs": [],
   "source": [
    "plt.plot(model_rewards[:1000], '.')\n",
    "plt.show()"
   ]
  },
  {
   "cell_type": "markdown",
   "id": "25eefd62",
   "metadata": {},
   "source": [
    "## Submission file advantages"
   ]
  },
  {
   "cell_type": "code",
   "execution_count": null,
   "id": "31327247",
   "metadata": {},
   "outputs": [],
   "source": [
    "counter = 0\n",
    "for i in range(0, len(rewards), 1000):\n",
    "    rewards_window = rewards[i:i+1000]\n",
    "    values = discounted_cumulative_sums(rewards_window, 0.99)[:-1]\n",
    "    plt.plot(values)\n",
    "    plt.show()\n",
    "    counter+=1\n",
    "    if counter == 20:\n",
    "        break"
   ]
  },
  {
   "cell_type": "markdown",
   "id": "22c1f69b",
   "metadata": {},
   "source": [
    "## PPO model advantages"
   ]
  },
  {
   "cell_type": "code",
   "execution_count": null,
   "id": "14ed3461",
   "metadata": {},
   "outputs": [],
   "source": [
    "rewards_window = rewards[i:i+1000]\n",
    "values = discounted_cumulative_sums(model_rewards, 0.99)[:-1]\n",
    "plt.plot(values)\n",
    "plt.show()"
   ]
  },
  {
   "cell_type": "code",
   "execution_count": null,
   "id": "a9c9ddba",
   "metadata": {},
   "outputs": [],
   "source": []
  }
 ],
 "metadata": {
  "kernelspec": {
   "display_name": "Python 3 (ipykernel)",
   "language": "python",
   "name": "python3"
  },
  "language_info": {
   "codemirror_mode": {
    "name": "ipython",
    "version": 3
   },
   "file_extension": ".py",
   "mimetype": "text/x-python",
   "name": "python",
   "nbconvert_exporter": "python",
   "pygments_lexer": "ipython3",
   "version": "3.9.15"
  }
 },
 "nbformat": 4,
 "nbformat_minor": 5
}
